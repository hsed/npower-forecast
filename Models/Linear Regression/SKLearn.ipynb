{
 "cells": [
  {
   "cell_type": "code",
   "execution_count": 1,
   "metadata": {},
   "outputs": [
    {
     "data": {
      "text/html": [
       "<div>\n",
       "<table border=\"1\" class=\"dataframe\">\n",
       "  <thead>\n",
       "    <tr style=\"text-align: right;\">\n",
       "      <th></th>\n",
       "      <th>Date</th>\n",
       "      <th>GSP</th>\n",
       "      <th>Temp</th>\n",
       "      <th>Wind_Speed</th>\n",
       "      <th>Precip_Amount</th>\n",
       "      <th>Chill</th>\n",
       "      <th>Solar_Rad</th>\n",
       "      <th>Humidity</th>\n",
       "      <th>Cloud_Cover</th>\n",
       "      <th>Unnamed: 9</th>\n",
       "      <th>Demand</th>\n",
       "    </tr>\n",
       "  </thead>\n",
       "  <tbody>\n",
       "    <tr>\n",
       "      <th>0</th>\n",
       "      <td>2014-04-01</td>\n",
       "      <td>F</td>\n",
       "      <td>7.339581</td>\n",
       "      <td>2.031250</td>\n",
       "      <td>0.219479</td>\n",
       "      <td>21.790098</td>\n",
       "      <td>392.083333</td>\n",
       "      <td>97.291667</td>\n",
       "      <td>7.095833</td>\n",
       "      <td>NaN</td>\n",
       "      <td>864.0620</td>\n",
       "    </tr>\n",
       "    <tr>\n",
       "      <th>1</th>\n",
       "      <td>2014-04-02</td>\n",
       "      <td>F</td>\n",
       "      <td>5.251040</td>\n",
       "      <td>3.229167</td>\n",
       "      <td>0.019167</td>\n",
       "      <td>41.064574</td>\n",
       "      <td>125.416667</td>\n",
       "      <td>100.000000</td>\n",
       "      <td>7.783333</td>\n",
       "      <td>NaN</td>\n",
       "      <td>882.8143</td>\n",
       "    </tr>\n",
       "    <tr>\n",
       "      <th>2</th>\n",
       "      <td>2014-04-03</td>\n",
       "      <td>F</td>\n",
       "      <td>5.842707</td>\n",
       "      <td>3.604167</td>\n",
       "      <td>0.068750</td>\n",
       "      <td>43.915093</td>\n",
       "      <td>134.583333</td>\n",
       "      <td>100.000000</td>\n",
       "      <td>7.960416</td>\n",
       "      <td>NaN</td>\n",
       "      <td>891.3996</td>\n",
       "    </tr>\n",
       "    <tr>\n",
       "      <th>3</th>\n",
       "      <td>2014-04-04</td>\n",
       "      <td>F</td>\n",
       "      <td>7.183331</td>\n",
       "      <td>2.343750</td>\n",
       "      <td>0.032187</td>\n",
       "      <td>24.404681</td>\n",
       "      <td>180.416667</td>\n",
       "      <td>98.583333</td>\n",
       "      <td>6.991666</td>\n",
       "      <td>NaN</td>\n",
       "      <td>862.8675</td>\n",
       "    </tr>\n",
       "    <tr>\n",
       "      <th>4</th>\n",
       "      <td>2014-04-05</td>\n",
       "      <td>F</td>\n",
       "      <td>9.519789</td>\n",
       "      <td>2.145833</td>\n",
       "      <td>0.077500</td>\n",
       "      <td>16.851037</td>\n",
       "      <td>295.000000</td>\n",
       "      <td>92.833333</td>\n",
       "      <td>6.520833</td>\n",
       "      <td>NaN</td>\n",
       "      <td>867.4235</td>\n",
       "    </tr>\n",
       "  </tbody>\n",
       "</table>\n",
       "</div>"
      ],
      "text/plain": [
       "        Date GSP      Temp  Wind_Speed  Precip_Amount      Chill   Solar_Rad  \\\n",
       "0 2014-04-01   F  7.339581    2.031250       0.219479  21.790098  392.083333   \n",
       "1 2014-04-02   F  5.251040    3.229167       0.019167  41.064574  125.416667   \n",
       "2 2014-04-03   F  5.842707    3.604167       0.068750  43.915093  134.583333   \n",
       "3 2014-04-04   F  7.183331    2.343750       0.032187  24.404681  180.416667   \n",
       "4 2014-04-05   F  9.519789    2.145833       0.077500  16.851037  295.000000   \n",
       "\n",
       "     Humidity  Cloud_Cover  Unnamed: 9    Demand  \n",
       "0   97.291667     7.095833         NaN  864.0620  \n",
       "1  100.000000     7.783333         NaN  882.8143  \n",
       "2  100.000000     7.960416         NaN  891.3996  \n",
       "3   98.583333     6.991666         NaN  862.8675  \n",
       "4   92.833333     6.520833         NaN  867.4235  "
      ]
     },
     "execution_count": 1,
     "metadata": {},
     "output_type": "execute_result"
    }
   ],
   "source": [
    "import pandas as pd\n",
    "import numpy as np\n",
    "import matplotlib.pyplot as plt\n",
    "df = pd.read_excel(\"Round 1 Data FCB.xlsx\")\n",
    "dfb = pd.read_excel(\"Round 1 Data FCRR.xlsx\")\n",
    "df.head()\n"
   ]
  },
  {
   "cell_type": "code",
   "execution_count": 258,
   "metadata": {},
   "outputs": [
    {
     "name": "stdout",
     "output_type": "stream",
     "text": [
      "4\n",
      "732,732, PredictionSet 55\n"
     ]
    }
   ],
   "source": [
    "from sklearn import linear_model\n",
    "from sklearn.tree import DecisionTreeRegressor\n",
    "from sklearn.svm import SVR\n",
    "from sklearn.preprocessing import PolynomialFeatures\n",
    "from sklearn import ensemble\n",
    "from sklearn.preprocessing import StandardScaler\n",
    "from sklearn.neural_network import MLPRegressor\n",
    "\n",
    "#regr = linear_model.LinearRegression(normalize=True)\n",
    "#regr = linear_model.Ridge (alpha = 1)\n",
    "#regr = linear_model.Lasso(alpha = 10)\n",
    "#regr = linear_model.ElasticNet(alpha = 0.1,max_iter=1000)\n",
    "#regr = linear_model.Lars()\n",
    "#regr = linear_model.LarsLasso()\n",
    "#regr=linear_model.OrthogonalMatchingPursuit() \n",
    "#regr=linear_model.BayesianRidge()\n",
    "#regr=linear_model.SGDRegressor()\n",
    "#regr=linear_model.PassiveAggressiveRegressor(max_iter=1000) \n",
    "#regr=linear_model.TheilSenRegressor()\n",
    "#regr=linear_model.HuberRegressor()\n",
    "\n",
    "#regr=ensemble.RandomForestRegressor(n_estimators=1000,max_features=1)\n",
    "\n",
    "regr=MLPRegressor(hidden_layer_sizes=(6,), random_state=1, max_iter=10000, solver='lbfgs', learning_rate_init=0.0001,alpha=1e-10,batch_size=1)\n",
    "\n",
    "\n",
    "X=[]\n",
    "Y = [float(x) for x in df[\"Demand\"]]\n",
    "print(df[\"Date\"][0].month)\n",
    "for index,i in df.iterrows():\n",
    "    if index>732:\n",
    "        pass\n",
    "    l = []\n",
    "    l.append(i[\"Temp\"])\n",
    "    l.append(i[\"Wind_Speed\"])\n",
    "    l.append(i[\"Precip_Amount\"])\n",
    "    l.append(i[\"Chill\"])\n",
    "    l.append(i[\"Solar_Rad\"])\n",
    "    #l.append(i[\"Humidity\"])\n",
    "    l.append(i[\"Cloud_Cover\"])\n",
    "    #l.append(i[\"Date\"].month)\n",
    "    X.append(l)\n",
    "\n",
    "X_valid = X[-56:-1]\n",
    "Y_result = Y[-56:-1]\n",
    "\n",
    "\n",
    "\n",
    "#Remove the last 55 points from the traingin set\n",
    "X_train=X[:-55]\n",
    "Y_train=Y[:-55]\n",
    "print(\"{0},{1}, PredictionSet {2}\".format(len(X),len(Y),len(X_valid)))\n",
    "\n",
    "scaler = StandardScaler()\n",
    "scaler.fit(X_train)  # Don't cheat - fit only on training data\n",
    "X_train = scaler.transform(X_train)\n",
    "X_valid = scaler.transform(X_valid)\n",
    "\n"
   ]
  },
  {
   "cell_type": "code",
   "execution_count": 256,
   "metadata": {},
   "outputs": [
    {
     "data": {
      "text/plain": [
       "MLPRegressor(activation='relu', alpha=1e-10, batch_size=1, beta_1=0.9,\n",
       "       beta_2=0.999, early_stopping=False, epsilon=1e-08,\n",
       "       hidden_layer_sizes=(6,), learning_rate='constant',\n",
       "       learning_rate_init=0.0001, max_iter=10000, momentum=0.9,\n",
       "       nesterovs_momentum=True, power_t=0.5, random_state=1, shuffle=True,\n",
       "       solver='lbfgs', tol=0.0001, validation_fraction=0.1, verbose=False,\n",
       "       warm_start=False)"
      ]
     },
     "execution_count": 256,
     "metadata": {},
     "output_type": "execute_result"
    }
   ],
   "source": [
    "#regr.normalize = True\n",
    "\n",
    "#XTR=PolynomialFeatures(interaction_only=True).fit_transform(X_train)\n",
    "regr.fit(X_train,Y_train)"
   ]
  },
  {
   "cell_type": "code",
   "execution_count": 248,
   "metadata": {
    "collapsed": true
   },
   "outputs": [],
   "source": [
    "#regr.coef_\n"
   ]
  },
  {
   "cell_type": "code",
   "execution_count": 249,
   "metadata": {},
   "outputs": [
    {
     "data": {
      "image/png": "[encoded data removed]",
      "text/plain": [
       "<matplotlib.figure.Figure at 0x7fb1feb872b0>"
      ]
     },
     "metadata": {},
     "output_type": "display_data"
    }
   ],
   "source": [
    "#Block of code to graph predictions\n",
    "\n",
    "\n",
    "result =regr.predict(X_train)\n",
    "\n",
    "#for i in X:\n",
    "#    print(i)\n",
    "#    result.append(regr.predict(i))\n",
    "ran= 650\n",
    "rang = np.arange(ran)\n",
    "\n",
    "\n",
    "plt.figure(1)\n",
    "plt.clf()\n",
    "plt.plot(rang,Y[0:ran],'b')\n",
    "\n",
    "plt.plot(rang,result[0:ran],'r')\n",
    "plt.show()\n"
   ]
  },
  {
   "cell_type": "code",
   "execution_count": 250,
   "metadata": {},
   "outputs": [
    {
     "data": {
      "text/plain": [
       "<matplotlib.figure.Figure at 0x7fb1fea27a58>"
      ]
     },
     "metadata": {},
     "output_type": "display_data"
    },
    {
     "data": {
      "image/png": "[encoded data removed]",
      "text/plain": [
       "<matplotlib.figure.Figure at 0x7fb1fe7e8e10>"
      ]
     },
     "metadata": {},
     "output_type": "display_data"
    }
   ],
   "source": [
    "plt.figure(2)\n",
    "Model_Result = regr.predict(X_valid)\n",
    "ran= len(X_valid)\n",
    "rang = np.arange(ran)\n",
    "\n",
    "plt.figure(1)\n",
    "plt.clf()\n",
    "plt.plot(rang,Y_result,'b')\n",
    "\n",
    "plt.plot(rang,Model_Result,'r')\n",
    "plt.show()"
   ]
  },
  {
   "cell_type": "code",
   "execution_count": 251,
   "metadata": {},
   "outputs": [
    {
     "name": "stdout",
     "output_type": "stream",
     "text": [
      "7122.00081126\n"
     ]
    }
   ],
   "source": [
    "import sklearn.metrics as metrics\n",
    "mse = metrics.mean_squared_error(Y_result,Model_Result)\n",
    "print(mse)"
   ]
  },
  {
   "cell_type": "code",
   "execution_count": null,
   "metadata": {
    "collapsed": true
   },
   "outputs": [],
   "source": []
  },
  {
   "cell_type": "code",
   "execution_count": null,
   "metadata": {
    "collapsed": true
   },
   "outputs": [],
   "source": []
  }
 ],
 "metadata": {
  "kernelspec": {
   "display_name": "Python 3.6",
   "language": "python",
   "name": "python36"
  },
  "language_info": {
   "codemirror_mode": {
    "name": "ipython",
    "version": 3
   },
   "file_extension": ".py",
   "mimetype": "text/x-python",
   "name": "python",
   "nbconvert_exporter": "python",
   "pygments_lexer": "ipython3",
   "version": "3.6.0"
  }
 },
 "nbformat": 4,
 "nbformat_minor": 2
}
