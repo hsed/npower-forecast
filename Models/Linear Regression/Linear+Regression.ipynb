{
 "cells": [
  {
   "cell_type": "code",
   "execution_count": 14,
   "metadata": {
    "collapsed": true
   },
   "outputs": [],
   "source": [
    "import pandas as pd\n",
    "import numpy as np\n",
    "import matplotlib.pyplot as plt\n",
    "df = pd.read_csv(\"Original Round 1 Data.csv\")\n",
    "R1_Result_df = pd.read_csv(\"Round 1 Results.csv\")\n",
    "R2_Pred_df = pd.read_csv(\"Round 2 Need to Predict.csv\")\n",
    "\n",
    "#dfb = pd.read_excel(\"Round 1 Data FCRR.xlsx\")\n",
    "df.head()\n",
    "df['Date'] = pd.to_datetime(df['Date'],format=\"%d/%m/%Y\")\n",
    "R1_Result_df['Date'] = pd.to_datetime(R1_Result_df['Date'],format=\"%d/%m/%Y\")\n",
    "R2_Pred_df['Date'] = pd.to_datetime(R2_Pred_df['Date'],format=\"%d/%m/%Y\")"
   ]
  },
  {
   "cell_type": "code",
   "execution_count": 15,
   "metadata": {
    "collapsed": true
   },
   "outputs": [],
   "source": [
    "from sklearn import linear_model\n",
    "from sklearn.tree import DecisionTreeRegressor\n",
    "from sklearn.svm import SVR\n",
    "from sklearn.preprocessing import PolynomialFeatures\n",
    "from sklearn import ensemble\n",
    "from sklearn.preprocessing import StandardScaler\n",
    "from sklearn.neural_network import MLPRegressor\n",
    "\n",
    "regr = linear_model.LinearRegression()\n",
    "#regr = linear_model.Ridge (alpha = 1)\n",
    "#regr = linear_model.Lasso(alpha = 10)\n",
    "#regr = linear_model.ElasticNet(alpha = 0.1,max_iter=1000)\n",
    "#regr = linear_model.Lars()\n",
    "#regr = linear_model.LarsLasso()\n",
    "#regr=linear_model.OrthogonalMatchingPursuit() \n",
    "#regr=linear_model.BayesianRidge()\n",
    "#regr=linear_model.SGDRegressor()\n",
    "#regr=linear_model.PassiveAggressiveRegressor(max_iter=1000) \n",
    "#regr=linear_model.TheilSenRegressor()\n",
    "#regr=linear_model.HuberRegressor()\n",
    "\n",
    "#regr=ensemble.RandomForestRegressor(n_estimators=1000,max_features=10)\n",
    "\n",
    "#regr=MLPRegressor(hidden_layer_sizes=(6,), random_state=1, max_iter=10000, solver='lbfgs', learning_rate_init=0.0001,alpha=1e-10,batch_size=1)\n",
    "\n",
    "from sklearn.utils import check_array\n",
    "def mean_absolute_percentage_error(y_true, y_pred): \n",
    "\n",
    "    ## Note: does not handle mix 1d representation\n",
    "    #if _is_1d(y_true): \n",
    "    #    y_true, y_pred = _check_1d_array(y_true, y_pred)\n",
    "    y_true=np.array(y_true)\n",
    "    y_pred = np.array(y_pred)\n",
    "\n",
    "    return np.mean(np.abs((y_true - y_pred) / y_true)) * 100\n",
    "\n",
    "def ConstrainResults(resultsD):\n",
    "    resultsD=np.array(resultsD)\n",
    "    output=[]\n",
    "    output = np.clip(resultsD,200,1500)\n",
    "    \n",
    "    return output\n",
    "\n",
    "def ParseDF(df):\n",
    "    X=[]\n",
    "    \n",
    "    for index,i in df.iterrows():\n",
    "        if index>732:\n",
    "            pass\n",
    "        l = []\n",
    "        \n",
    "        l.append(i[\"Temp\"])\n",
    "        l.append(i[\"Wind_Speed\"])\n",
    "        l.append(i[\"Precip_Amount\"])\n",
    "        l.append(i[\"Chill\"])\n",
    "        l.append(i[\"Solar_Rad\"])\n",
    "        l.append(i[\"Humidity\"])\n",
    "        l.append(i[\"Cloud_Cover\"])\n",
    "        #l.append(i[\"Date\"].month)\n",
    "        #l.append(i[\"Date\"].day)\n",
    "        l2=[]\n",
    "        for k in l:\n",
    "            for j in range(1,5):\n",
    "                l2.append(k**j)\n",
    "\n",
    "        X.append(l2)\n",
    "    return X\n",
    "\n",
    "\n",
    "Xa=ParseDF(df)\n",
    "Xb=ParseDF(R1_Result_df)\n",
    "X=Xa+Xb\n",
    "Ya = [float(x) for x in df[\"Demand\"]]\n",
    "Yb = [float(x) for x in R1_Result_df[\"Demand\"]]\n",
    "Y=Ya+Yb\n",
    "\n",
    "#Remove the last 55 points from the traingin set\n",
    "X_train=X[:-55]\n",
    "Y_train=Y[:-55]\n",
    "\n",
    "X_train=X\n",
    "Y_train=Y\n",
    "\n",
    "X_R2_Pred = ParseDF(R2_Pred_df)\n",
    "X_valid = X_R2_Pred\n",
    "Y_result =  [500 for x in X_R2_Pred]\n",
    "\n",
    "\n"
   ]
  },
  {
   "cell_type": "code",
   "execution_count": 16,
   "metadata": {
    "collapsed": true
   },
   "outputs": [],
   "source": [
    "scaler = StandardScaler()\n",
    "scaler.fit(X_train)  # Don't cheat - fit only on training data\n",
    "X_train = scaler.transform(X_train)\n",
    "X_valid = scaler.transform(X_valid)"
   ]
  },
  {
   "cell_type": "code",
   "execution_count": 17,
   "metadata": {},
   "outputs": [
    {
     "data": {
      "text/plain": [
       "LinearRegression(copy_X=True, fit_intercept=True, n_jobs=1, normalize=False)"
      ]
     },
     "execution_count": 17,
     "metadata": {},
     "output_type": "execute_result"
    }
   ],
   "source": [
    "#regr.normalize = True\n",
    "\n",
    "#XTR=PolynomialFeatures(interaction_only=True).fit_transform(X_train)\n",
    "regr.fit(X_train,Y_train)"
   ]
  },
  {
   "cell_type": "code",
   "execution_count": 18,
   "metadata": {
    "collapsed": true
   },
   "outputs": [],
   "source": [
    "#regr.coef_\n"
   ]
  },
  {
   "cell_type": "code",
   "execution_count": 19,
   "metadata": {},
   "outputs": [
    {
     "data": {
      "image/png": "[encoded data removed]",
      "text/plain": [
       "<matplotlib.figure.Figure at 0x7f5439841160>"
      ]
     },
     "metadata": {},
     "output_type": "display_data"
    }
   ],
   "source": [
    "#Block of code to graph predictions\n",
    "\n",
    "\n",
    "result =regr.predict(X_train)\n",
    "\n",
    "#for i in X:\n",
    "#    print(i)\n",
    "#    result.append(regr.predict(i))\n",
    "ran= 650\n",
    "rang = np.arange(ran)\n",
    "\n",
    "\n",
    "plt.figure(1)\n",
    "plt.clf()\n",
    "plt.plot(rang,Y[0:ran],'b')\n",
    "\n",
    "plt.plot(rang,result[0:ran],'r')\n",
    "plt.show()\n"
   ]
  },
  {
   "cell_type": "code",
   "execution_count": 20,
   "metadata": {},
   "outputs": [
    {
     "data": {
      "image/png": "[encoded data removed]",
      "text/plain": [
       "<matplotlib.figure.Figure at 0x7f54398e9cf8>"
      ]
     },
     "metadata": {},
     "output_type": "display_data"
    }
   ],
   "source": [
    "plt.figure(2)\n",
    "Model_Result = regr.predict(X_valid)\n",
    "Model_Result =ConstrainResults(Model_Result)\n",
    "ran= len(X_valid)\n",
    "rang = np.arange(ran)\n",
    "\n",
    "\n",
    "plt.clf()\n",
    "plt.plot(rang,Y_result,'b')\n",
    "\n",
    "plt.plot(rang,Model_Result,'r')\n",
    "plt.show()\n",
    "for i in Model_Result:\n",
    "    if i<20:\n",
    "        print(i)"
   ]
  },
  {
   "cell_type": "code",
   "execution_count": 21,
   "metadata": {},
   "outputs": [
    {
     "name": "stdout",
     "output_type": "stream",
     "text": [
      "149145.606605\n",
      "71.6058881516\n"
     ]
    }
   ],
   "source": [
    "import sklearn.metrics as metrics\n",
    "mse = metrics.mean_squared_error(Y_result,Model_Result)\n",
    "mape = mean_absolute_percentage_error(Y_result,Model_Result)\n",
    "print(mse)\n",
    "print(mape)"
   ]
  },
  {
   "cell_type": "code",
   "execution_count": 22,
   "metadata": {},
   "outputs": [
    {
     "data": {
      "image/png": "[encoded data removed]",
      "text/plain": [
       "<matplotlib.figure.Figure at 0x7f5439870e10>"
      ]
     },
     "metadata": {},
     "output_type": "display_data"
    }
   ],
   "source": [
    "#Block of code to graph predictions\n",
    "\n",
    "\n",
    "result = list(result) + list(Model_Result)\n",
    "\n",
    "#for i in X:\n",
    "#    print(i)\n",
    "#    result.append(regr.predict(i))\n",
    "ran= 650\n",
    "rang = np.arange(ran)\n",
    "\n",
    "\n",
    "plt.figure(3)\n",
    "plt.clf()\n",
    "plt.plot(Y[800:1000],'b')\n",
    "\n",
    "plt.plot(result[800:1000],'r')\n",
    "plt.show()\n"
   ]
  },
  {
   "cell_type": "code",
   "execution_count": 23,
   "metadata": {},
   "outputs": [
    {
     "name": "stdout",
     "output_type": "stream",
     "text": [
      "591.264519565\n",
      "552.624438311\n",
      "556.911598485\n",
      "542.917727475\n",
      "554.295001357\n",
      "553.795141943\n",
      "591.97853999\n",
      "574.73114368\n",
      "573.868775949\n",
      "611.542102727\n",
      "662.884619588\n",
      "641.466546206\n",
      "606.298599955\n",
      "622.191822557\n",
      "609.556381214\n",
      "623.076097233\n",
      "556.282248569\n",
      "622.087922293\n",
      "602.901279851\n",
      "623.056368945\n",
      "636.644331805\n",
      "627.159205302\n",
      "654.538639789\n",
      "646.469487958\n",
      "615.085356461\n",
      "601.756829454\n",
      "605.55223786\n",
      "617.227708027\n",
      "580.940390279\n",
      "590.274948459\n",
      "600.518592899\n",
      "760.555521293\n",
      "850.889802535\n",
      "820.003834183\n",
      "813.763951226\n",
      "840.374902004\n",
      "860.064721239\n",
      "878.543062267\n",
      "855.855407053\n",
      "897.977827002\n",
      "858.458456304\n",
      "798.384070756\n",
      "784.084834217\n",
      "810.581770829\n",
      "738.863696818\n",
      "726.077376605\n",
      "768.182274585\n",
      "878.682381711\n",
      "924.825982362\n",
      "896.664551808\n",
      "953.566446991\n",
      "938.991834099\n",
      "852.084072876\n",
      "876.228378511\n",
      "917.938648901\n",
      "885.684438807\n",
      "879.352122028\n",
      "818.988786648\n",
      "843.189392374\n",
      "907.765545346\n",
      "872.351086663\n",
      "913.84043321\n",
      "933.617015088\n",
      "955.511240951\n",
      "956.677286155\n",
      "1024.64990761\n",
      "1011.49707903\n",
      "855.514838475\n",
      "867.686878996\n",
      "882.888427343\n",
      "893.476893751\n",
      "966.712708729\n",
      "945.459891838\n",
      "907.983223969\n",
      "916.450715213\n",
      "975.419512276\n",
      "921.737268174\n",
      "943.111749727\n",
      "901.656292134\n",
      "948.210244064\n",
      "943.807069689\n",
      "948.417595967\n",
      "910.842685282\n",
      "937.070241087\n",
      "975.186043847\n",
      "879.648063573\n",
      "1007.11516253\n",
      "938.338374653\n",
      "958.670833245\n",
      "953.094008714\n",
      "861.071746803\n",
      "855.98703616\n",
      "979.807555062\n",
      "1065.57395762\n",
      "1060.2659637\n",
      "982.645361188\n",
      "1026.95438521\n",
      "910.239538143\n",
      "917.433431379\n",
      "943.967773982\n",
      "934.522263802\n",
      "965.150946993\n",
      "926.653769698\n",
      "1099.59555059\n",
      "1117.56630603\n",
      "1052.0846477\n",
      "945.287294188\n",
      "905.238864991\n",
      "912.625857188\n",
      "922.607527188\n",
      "859.959498404\n",
      "925.045528813\n",
      "1020.9403608\n",
      "982.298012512\n",
      "980.942130184\n",
      "938.738289372\n",
      "870.107294343\n",
      "1131.19800272\n",
      "1132.47435333\n",
      "1037.06934606\n",
      "976.901614764\n",
      "1008.13549548\n",
      "989.126472875\n",
      "987.604705458\n",
      "966.60321545\n",
      "913.057378549\n",
      "949.419245511\n",
      "1045.85626394\n",
      "1070.67736217\n",
      "1017.78106983\n",
      "1036.70736948\n",
      "1086.88944979\n",
      "1066.83069019\n",
      "1128.0678702\n",
      "1149.44193257\n",
      "985.346337007\n",
      "950.719859409\n",
      "904.294268652\n",
      "949.555481436\n",
      "916.920289338\n",
      "883.01672559\n",
      "938.755294118\n",
      "926.679192698\n",
      "908.977111494\n",
      "957.699523932\n",
      "986.819057955\n",
      "956.683177832\n",
      "905.411238273\n",
      "917.123794106\n",
      "952.381312738\n",
      "980.991189416\n",
      "934.871299952\n",
      "913.603807428\n",
      "910.927229212\n",
      "849.605738351\n",
      "832.357822152\n",
      "874.884373708\n",
      "851.285999075\n",
      "787.243385784\n",
      "784.812282296\n",
      "795.720933724\n",
      "800.425587978\n",
      "774.104936655\n",
      "815.361775225\n",
      "775.324165649\n",
      "808.906830272\n",
      "830.073832536\n",
      "863.423000251\n",
      "811.297737087\n",
      "795.825890356\n",
      "759.177766279\n",
      "846.372915693\n",
      "917.615179962\n",
      "852.75620177\n",
      "768.061527575\n",
      "591.823034642\n",
      "757.743023215\n",
      "812.283590311\n",
      "799.664921009\n",
      "790.329169339\n",
      "726.826335494\n",
      "716.955873014\n"
     ]
    }
   ],
   "source": [
    "for i in Model_Result:\n",
    "    print(i)"
   ]
  },
  {
   "cell_type": "code",
   "execution_count": 24,
   "metadata": {},
   "outputs": [
    {
     "name": "stdout",
     "output_type": "stream",
     "text": [
      "149145.606605\n",
      "14.6294673428\n"
     ]
    }
   ],
   "source": [
    "dfg = pd.read_csv('Round 2 Results.csv')\n",
    "li = list(dfg[\"Demand\"])\n",
    "mse = metrics.mean_squared_error(Y_result,Model_Result)\n",
    "mape = mean_absolute_percentage_error(li,Model_Result)\n",
    "print(mse)\n",
    "print(mape)"
   ]
  },
  {
   "cell_type": "code",
   "execution_count": null,
   "metadata": {
    "collapsed": true
   },
   "outputs": [],
   "source": []
  }
 ],
 "metadata": {
  "kernelspec": {
   "display_name": "Python 3.6",
   "language": "python",
   "name": "python36"
  },
  "language_info": {
   "codemirror_mode": {
    "name": "ipython",
    "version": 3
   },
   "file_extension": ".py",
   "mimetype": "text/x-python",
   "name": "python",
   "nbconvert_exporter": "python",
   "pygments_lexer": "ipython3",
   "version": "3.6.2"
  }
 },
 "nbformat": 4,
 "nbformat_minor": 2
}
